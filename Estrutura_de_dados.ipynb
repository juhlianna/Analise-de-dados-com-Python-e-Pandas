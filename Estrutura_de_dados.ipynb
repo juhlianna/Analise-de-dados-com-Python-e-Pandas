{
  "nbformat": 4,
  "nbformat_minor": 0,
  "metadata": {
    "colab": {
      "name": "Estrutura_de_dados.ipynb",
      "provenance": [],
      "include_colab_link": true
    },
    "kernelspec": {
      "name": "python3",
      "display_name": "Python 3"
    }
  },
  "cells": [
    {
      "cell_type": "markdown",
      "metadata": {
        "id": "view-in-github",
        "colab_type": "text"
      },
      "source": [
        "<a href=\"https://colab.research.google.com/github/juhlianna/Analise-de-dados-com-Python-e-Pandas/blob/main/Estrutura_de_dados.ipynb\" target=\"_parent\"><img src=\"https://colab.research.google.com/assets/colab-badge.svg\" alt=\"Open In Colab\"/></a>"
      ]
    },
    {
      "cell_type": "markdown",
      "metadata": {
        "id": "K-N4ha5EG6ky"
      },
      "source": [
        "# **Curso Python Para Análise de dados** - *Fernanda Santos*"
      ]
    },
    {
      "cell_type": "markdown",
      "metadata": {
        "id": "P5yjJd4Se7a8"
      },
      "source": [
        "# **Estrutura de dados**"
      ]
    },
    {
      "cell_type": "markdown",
      "metadata": {
        "id": "0VKL1NCNhUfG"
      },
      "source": [
        "## **Listas**"
      ]
    },
    {
      "cell_type": "code",
      "metadata": {
        "id": "XHAFPHWmfFoB"
      },
      "source": [
        "#Criando uma lista chamada frutas\n",
        "frutas = [\"laranja\",\"maça\",\"banana\"]\n"
      ],
      "execution_count": 1,
      "outputs": []
    },
    {
      "cell_type": "code",
      "metadata": {
        "colab": {
          "base_uri": "https://localhost:8080/"
        },
        "id": "SHsfVXgc0jmL",
        "outputId": "ef007d07-32bd-410d-c548-d6d253b84e10"
      },
      "source": [
        "frutas\n"
      ],
      "execution_count": 2,
      "outputs": [
        {
          "output_type": "execute_result",
          "data": {
            "text/plain": [
              "['laranja', 'maça', 'banana']"
            ]
          },
          "metadata": {},
          "execution_count": 2
        }
      ]
    },
    {
      "cell_type": "code",
      "metadata": {
        "id": "bJkOFrGfgrKR",
        "colab": {
          "base_uri": "https://localhost:8080/",
          "height": 35
        },
        "outputId": "3c23c208-47f4-469b-bb75-8f0cc0e80c23"
      },
      "source": [
        "#Imprimindo o primeiro elemento da lista\n",
        "frutas[0]"
      ],
      "execution_count": 3,
      "outputs": [
        {
          "output_type": "execute_result",
          "data": {
            "application/vnd.google.colaboratory.intrinsic+json": {
              "type": "string"
            },
            "text/plain": [
              "'laranja'"
            ]
          },
          "metadata": {},
          "execution_count": 3
        }
      ]
    },
    {
      "cell_type": "code",
      "metadata": {
        "id": "M-2mXu3mgvuS",
        "colab": {
          "base_uri": "https://localhost:8080/",
          "height": 35
        },
        "outputId": "f68e8cac-0436-44f5-e0f0-1677efe0f875"
      },
      "source": [
        "#Imprimindo o 4 elemento da lista\n",
        "frutas[2]"
      ],
      "execution_count": 5,
      "outputs": [
        {
          "output_type": "execute_result",
          "data": {
            "application/vnd.google.colaboratory.intrinsic+json": {
              "type": "string"
            },
            "text/plain": [
              "'banana'"
            ]
          },
          "metadata": {},
          "execution_count": 5
        }
      ]
    },
    {
      "cell_type": "code",
      "metadata": {
        "id": "RDCW4hs_gxyT"
      },
      "source": [
        "#Substituindo o primeiro elemento da lista\n",
        "frutas[0] = \"pera\""
      ],
      "execution_count": 6,
      "outputs": []
    },
    {
      "cell_type": "code",
      "metadata": {
        "id": "QJrP-830gzvh",
        "colab": {
          "base_uri": "https://localhost:8080/"
        },
        "outputId": "04ad16dd-51a3-4311-8746-8c833eec24b4"
      },
      "source": [
        "frutas"
      ],
      "execution_count": 7,
      "outputs": [
        {
          "output_type": "execute_result",
          "data": {
            "text/plain": [
              "['pera', 'maça', 'banana']"
            ]
          },
          "metadata": {},
          "execution_count": 7
        }
      ]
    },
    {
      "cell_type": "code",
      "metadata": {
        "id": "3QFbAI6Og0wP"
      },
      "source": [
        "#Removendo maça da lista\n",
        "frutas.remove(\"maça\")"
      ],
      "execution_count": 8,
      "outputs": []
    },
    {
      "cell_type": "code",
      "metadata": {
        "id": "b8g1bs42g31p",
        "colab": {
          "base_uri": "https://localhost:8080/"
        },
        "outputId": "5c35ad72-5150-4dd0-a029-d48f3734831c"
      },
      "source": [
        "frutas"
      ],
      "execution_count": 9,
      "outputs": [
        {
          "output_type": "execute_result",
          "data": {
            "text/plain": [
              "['pera', 'banana']"
            ]
          },
          "metadata": {},
          "execution_count": 9
        }
      ]
    },
    {
      "cell_type": "code",
      "metadata": {
        "id": "xfu4p_g3g7OS",
        "colab": {
          "base_uri": "https://localhost:8080/"
        },
        "outputId": "6d0bb3ea-707e-4cec-9248-c31889b755ed"
      },
      "source": [
        "len(frutas)"
      ],
      "execution_count": 10,
      "outputs": [
        {
          "output_type": "execute_result",
          "data": {
            "text/plain": [
              "2"
            ]
          },
          "metadata": {},
          "execution_count": 10
        }
      ]
    },
    {
      "cell_type": "code",
      "metadata": {
        "id": "0HedcjoFg-5m",
        "colab": {
          "base_uri": "https://localhost:8080/"
        },
        "outputId": "da1cd2e9-53ec-442b-f674-6291762a7345"
      },
      "source": [
        "\"laranja\" in frutas"
      ],
      "execution_count": 11,
      "outputs": [
        {
          "output_type": "execute_result",
          "data": {
            "text/plain": [
              "False"
            ]
          },
          "metadata": {},
          "execution_count": 11
        }
      ]
    },
    {
      "cell_type": "code",
      "metadata": {
        "id": "VDZ6nZU2hDdf"
      },
      "source": [
        "lista = [600, 60, 300, 30, 10]"
      ],
      "execution_count": 12,
      "outputs": []
    },
    {
      "cell_type": "code",
      "metadata": {
        "id": "VjrYRfHJhGhL",
        "colab": {
          "base_uri": "https://localhost:8080/"
        },
        "outputId": "5f55f139-a268-41d3-b910-16fc77ccdbe3"
      },
      "source": [
        "max(lista)"
      ],
      "execution_count": 13,
      "outputs": [
        {
          "output_type": "execute_result",
          "data": {
            "text/plain": [
              "600"
            ]
          },
          "metadata": {},
          "execution_count": 13
        }
      ]
    },
    {
      "cell_type": "code",
      "metadata": {
        "id": "jkeXKWQPhJRr",
        "colab": {
          "base_uri": "https://localhost:8080/"
        },
        "outputId": "449de57c-5ce1-4e1e-e387-68a5cebffa0b"
      },
      "source": [
        "min(lista)"
      ],
      "execution_count": 14,
      "outputs": [
        {
          "output_type": "execute_result",
          "data": {
            "text/plain": [
              "10"
            ]
          },
          "metadata": {},
          "execution_count": 14
        }
      ]
    },
    {
      "cell_type": "code",
      "metadata": {
        "id": "20T_hCwAhMsU"
      },
      "source": [
        "frutas.append([\"uva\", \"morango\"])"
      ],
      "execution_count": 15,
      "outputs": []
    },
    {
      "cell_type": "code",
      "metadata": {
        "id": "WgWWMNJXhQdB",
        "colab": {
          "base_uri": "https://localhost:8080/"
        },
        "outputId": "a7bf4084-cad2-407f-b04f-e4c611acccff"
      },
      "source": [
        "frutas"
      ],
      "execution_count": 16,
      "outputs": [
        {
          "output_type": "execute_result",
          "data": {
            "text/plain": [
              "['pera', 'banana', ['uva', 'morango']]"
            ]
          },
          "metadata": {},
          "execution_count": 16
        }
      ]
    },
    {
      "cell_type": "code",
      "metadata": {
        "id": "Cl-M69f5hSsD"
      },
      "source": [
        "frutas.extend([\"abacaxi\", \"abacate\"])"
      ],
      "execution_count": 17,
      "outputs": []
    },
    {
      "cell_type": "code",
      "metadata": {
        "id": "_scJEZbWMFBW",
        "colab": {
          "base_uri": "https://localhost:8080/"
        },
        "outputId": "463f4c11-5131-4ec3-c7c3-430d2321dd86"
      },
      "source": [
        "frutas"
      ],
      "execution_count": 18,
      "outputs": [
        {
          "output_type": "execute_result",
          "data": {
            "text/plain": [
              "['pera', 'banana', ['uva', 'morango'], 'abacaxi', 'abacate']"
            ]
          },
          "metadata": {},
          "execution_count": 18
        }
      ]
    },
    {
      "cell_type": "code",
      "metadata": {
        "id": "kNn0DiyxheHC",
        "colab": {
          "base_uri": "https://localhost:8080/"
        },
        "outputId": "8e50e0c7-9493-4d55-e635-f0e3c21a14a0"
      },
      "source": [
        "frutas.count(\"banana\")"
      ],
      "execution_count": 19,
      "outputs": [
        {
          "output_type": "execute_result",
          "data": {
            "text/plain": [
              "1"
            ]
          },
          "metadata": {},
          "execution_count": 19
        }
      ]
    },
    {
      "cell_type": "code",
      "metadata": {
        "id": "VgoLBevzhinC"
      },
      "source": [
        "lista.sort()"
      ],
      "execution_count": 20,
      "outputs": []
    },
    {
      "cell_type": "code",
      "metadata": {
        "id": "mPJTKqXMhrDB",
        "colab": {
          "base_uri": "https://localhost:8080/"
        },
        "outputId": "3f4b343a-3e5d-4fdb-9fee-4441d0029f4f"
      },
      "source": [
        "lista"
      ],
      "execution_count": 21,
      "outputs": [
        {
          "output_type": "execute_result",
          "data": {
            "text/plain": [
              "[10, 30, 60, 300, 600]"
            ]
          },
          "metadata": {},
          "execution_count": 21
        }
      ]
    },
    {
      "cell_type": "markdown",
      "metadata": {
        "id": "VHmSI4EcoX-h"
      },
      "source": [
        "# **Tuplas**"
      ]
    },
    {
      "cell_type": "code",
      "metadata": {
        "id": "Qrv07mzWocDT"
      },
      "source": [
        "#As tuplas usam parênteses como sintaxe\n",
        "tp = (\"Banana\", \"Maçã\", 2020, 2021)"
      ],
      "execution_count": 22,
      "outputs": []
    },
    {
      "cell_type": "code",
      "metadata": {
        "id": "r7ZMMLn8pt7R",
        "colab": {
          "base_uri": "https://localhost:8080/",
          "height": 35
        },
        "outputId": "58e5e2be-63d0-4f00-9949-ee6f8200d3b5"
      },
      "source": [
        "#Retornando o primeiro elemento\n",
        "tp[0]"
      ],
      "execution_count": 23,
      "outputs": [
        {
          "output_type": "execute_result",
          "data": {
            "application/vnd.google.colaboratory.intrinsic+json": {
              "type": "string"
            },
            "text/plain": [
              "'Banana'"
            ]
          },
          "metadata": {},
          "execution_count": 23
        }
      ]
    },
    {
      "cell_type": "code",
      "metadata": {
        "id": "a-KaNhePE0nb",
        "colab": {
          "base_uri": "https://localhost:8080/"
        },
        "outputId": "e3eb99e5-2b4c-4946-d647-0e5801e50631"
      },
      "source": [
        "tp.count(2021)"
      ],
      "execution_count": 24,
      "outputs": [
        {
          "output_type": "execute_result",
          "data": {
            "text/plain": [
              "1"
            ]
          },
          "metadata": {},
          "execution_count": 24
        }
      ]
    },
    {
      "cell_type": "code",
      "metadata": {
        "colab": {
          "base_uri": "https://localhost:8080/"
        },
        "id": "8WBQ5Y_p3NJz",
        "outputId": "c345d812-ea4f-48ff-8b3b-cc9016d8f2bb"
      },
      "source": [
        "tp.count(\"Maçã\")"
      ],
      "execution_count": 25,
      "outputs": [
        {
          "output_type": "execute_result",
          "data": {
            "text/plain": [
              "1"
            ]
          },
          "metadata": {},
          "execution_count": 25
        }
      ]
    },
    {
      "cell_type": "code",
      "metadata": {
        "id": "ntXTi7MaFAX7",
        "colab": {
          "base_uri": "https://localhost:8080/"
        },
        "outputId": "d19a791c-dfa3-48e8-9da5-36be9fd2f13b"
      },
      "source": [
        "tp[0:2]"
      ],
      "execution_count": 26,
      "outputs": [
        {
          "output_type": "execute_result",
          "data": {
            "text/plain": [
              "('Banana', 'Maçã')"
            ]
          },
          "metadata": {},
          "execution_count": 26
        }
      ]
    },
    {
      "cell_type": "markdown",
      "metadata": {
        "id": "Q0Ltz4kcFQps"
      },
      "source": [
        "# **Dicionários**"
      ]
    },
    {
      "cell_type": "code",
      "metadata": {
        "id": "43OFknPUFO68"
      },
      "source": [
        "#Para criar um dicionário utilizamos as {}\n",
        "dc = {\"Maçã\":50, \"Banana\":20, \"Laranja\":10, \"Uva\":5} #Dicionários trabalham com o condeito chave e valor"
      ],
      "execution_count": 27,
      "outputs": []
    },
    {
      "cell_type": "code",
      "metadata": {
        "id": "dCH9PefxGBdZ",
        "colab": {
          "base_uri": "https://localhost:8080/"
        },
        "outputId": "80445a28-70da-4902-e459-c0de6cc78aaa"
      },
      "source": [
        "dc"
      ],
      "execution_count": 28,
      "outputs": [
        {
          "output_type": "execute_result",
          "data": {
            "text/plain": [
              "{'Banana': 20, 'Laranja': 10, 'Maçã': 50, 'Uva': 5}"
            ]
          },
          "metadata": {},
          "execution_count": 28
        }
      ]
    },
    {
      "cell_type": "code",
      "metadata": {
        "id": "iyGxfz72FxNa",
        "colab": {
          "base_uri": "https://localhost:8080/"
        },
        "outputId": "714209b7-c02d-4b8b-8946-72f061e9e675"
      },
      "source": [
        "#Acessando o valor de um dicionário através da chave\n",
        "dc[\"Banana\"]"
      ],
      "execution_count": 29,
      "outputs": [
        {
          "output_type": "execute_result",
          "data": {
            "text/plain": [
              "20"
            ]
          },
          "metadata": {},
          "execution_count": 29
        }
      ]
    },
    {
      "cell_type": "code",
      "metadata": {
        "id": "6WwkohdpF5Cq",
        "colab": {
          "base_uri": "https://localhost:8080/"
        },
        "outputId": "c1ad9556-070b-4c13-8e4f-85103b5c72c5"
      },
      "source": [
        "#Atualizando o valor da Maçã\n",
        "dc[\"Laranja\"] = 25\n",
        "dc"
      ],
      "execution_count": 30,
      "outputs": [
        {
          "output_type": "execute_result",
          "data": {
            "text/plain": [
              "{'Banana': 20, 'Laranja': 25, 'Maçã': 50, 'Uva': 5}"
            ]
          },
          "metadata": {},
          "execution_count": 30
        }
      ]
    },
    {
      "cell_type": "code",
      "metadata": {
        "id": "_50MV-XaGFae",
        "colab": {
          "base_uri": "https://localhost:8080/"
        },
        "outputId": "2c65c156-4c3c-4fcb-cd7c-27fe15e55d40"
      },
      "source": [
        "#Retornando todas as chaves do dicionário\n",
        "dc.keys()"
      ],
      "execution_count": 31,
      "outputs": [
        {
          "output_type": "execute_result",
          "data": {
            "text/plain": [
              "dict_keys(['Maçã', 'Banana', 'Laranja', 'Uva'])"
            ]
          },
          "metadata": {},
          "execution_count": 31
        }
      ]
    },
    {
      "cell_type": "code",
      "metadata": {
        "id": "AHLXfikMGRS4",
        "colab": {
          "base_uri": "https://localhost:8080/"
        },
        "outputId": "21320b3d-6786-46a7-ea1a-6a62dc3bb89d"
      },
      "source": [
        "#Retornando os valores do dicionário\n",
        "dc.values()"
      ],
      "execution_count": 32,
      "outputs": [
        {
          "output_type": "execute_result",
          "data": {
            "text/plain": [
              "dict_values([50, 20, 25, 5])"
            ]
          },
          "metadata": {},
          "execution_count": 32
        }
      ]
    },
    {
      "cell_type": "code",
      "metadata": {
        "id": "co2yQ4IrGX8n",
        "colab": {
          "base_uri": "https://localhost:8080/"
        },
        "outputId": "5a786cf7-b6ee-4246-d2d5-33b5998163d7"
      },
      "source": [
        "#Verificando se já existe uma chave no dicionário e caso não exista inserir\n",
        "dc.setdefault(\"Caqui\", 30)"
      ],
      "execution_count": 33,
      "outputs": [
        {
          "output_type": "execute_result",
          "data": {
            "text/plain": [
              "30"
            ]
          },
          "metadata": {},
          "execution_count": 33
        }
      ]
    },
    {
      "cell_type": "code",
      "metadata": {
        "id": "M9_v4jAZGyz6",
        "colab": {
          "base_uri": "https://localhost:8080/"
        },
        "outputId": "59f707c2-2ef8-4b42-de65-997c6f491307"
      },
      "source": [
        "dc"
      ],
      "execution_count": 34,
      "outputs": [
        {
          "output_type": "execute_result",
          "data": {
            "text/plain": [
              "{'Banana': 20, 'Caqui': 30, 'Laranja': 25, 'Maçã': 50, 'Uva': 5}"
            ]
          },
          "metadata": {},
          "execution_count": 34
        }
      ]
    },
    {
      "cell_type": "code",
      "metadata": {
        "id": "l2-4mE1LG0CC"
      },
      "source": [
        ""
      ],
      "execution_count": null,
      "outputs": []
    }
  ]
}